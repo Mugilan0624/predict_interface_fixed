{
  "nbformat": 4,
  "nbformat_minor": 0,
  "metadata": {
    "colab": {
      "provenance": [],
      "authorship_tag": "ABX9TyNf0E3rtoyW/rK2HcCmix/4",
      "include_colab_link": true
    },
    "kernelspec": {
      "name": "python3",
      "display_name": "Python 3"
    },
    "language_info": {
      "name": "python"
    }
  },
  "cells": [
    {
      "cell_type": "markdown",
      "metadata": {
        "id": "view-in-github",
        "colab_type": "text"
      },
      "source": [
        "<a href=\"https://colab.research.google.com/github/Mugilan0624/predict_interface_fixed/blob/main/Cleaning_code.ipynb\" target=\"_parent\"><img src=\"https://colab.research.google.com/assets/colab-badge.svg\" alt=\"Open In Colab\"/></a>"
      ]
    },
    {
      "cell_type": "code",
      "execution_count": null,
      "metadata": {
        "id": "dA2SKGChMP3m"
      },
      "outputs": [],
      "source": [
        "import pandas as pd\n",
        "\n",
        "# Load dataset\n",
        "file_path = \"dataset.xlsx\"   # uploaded file\n",
        "raw_df = pd.read_excel(file_path, sheet_name=\"data\")\n",
        "\n",
        "# -------- Data Cleaning --------\n",
        "df = raw_df.copy()\n",
        "\n",
        "# 1. Standardize column names\n",
        "df.columns = df.columns.str.strip().str.lower().str.replace(\" \", \"_\")\n",
        "\n",
        "# 2. Drop duplicates\n",
        "df = df.drop_duplicates()\n",
        "\n",
        "# 3. Handle missing values: drop rows with NaN\n",
        "df = df.dropna()\n",
        "\n",
        "# 4. Convert input features to numeric safely\n",
        "numeric_cols = [\"laser_power_(w)\", \"scan_speed_(mm/s)\", \"hatch_space_(mm)\", \"layer_thickness_(mm)\"]\n",
        "for col in numeric_cols:\n",
        "    df[col] = pd.to_numeric(df[col], errors=\"coerce\")\n",
        "\n",
        "# Drop rows that failed conversion\n",
        "df = df.dropna(subset=numeric_cols)\n",
        "\n",
        "# 5. Standardize categorical labels\n",
        "if \"build_quality\" in df.columns:\n",
        "    df[\"build_quality\"] = df[\"build_quality\"].astype(str).str.strip().str.lower()\n",
        "\n",
        "if \"porosity\" in df.columns:\n",
        "    df[\"porosity\"] = df[\"porosity\"].astype(str).str.strip().str.lower()\n",
        "\n",
        "# Save cleaned dataset\n",
        "df.to_excel(\"cleaned_dataset.xlsx\", index=False)\n",
        "print(\"Cleaned dataset saved as cleaned_dataset.xlsx\")\n"
      ]
    }
  ]
}